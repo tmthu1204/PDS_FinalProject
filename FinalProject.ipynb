{
 "cells": [
  {
   "cell_type": "markdown",
   "metadata": {},
   "source": [
    "# `FINAL PROJECT`"
   ]
  },
  {
   "cell_type": "markdown",
   "metadata": {},
   "source": [
    "## **GAME ANALYSIS**"
   ]
  },
  {
   "cell_type": "markdown",
   "metadata": {},
   "source": [
    "`Group ID`: 16\n",
    "\n",
    "`Group Member`: \n",
    "- 22127404_Tạ Minh Thư\n",
    "- 22127359_Chu Thúy Quỳnh\n",
    "- 22127302_Nguyễn Đăng Nhân"
   ]
  },
  {
   "cell_type": "markdown",
   "metadata": {},
   "source": [
    "## IMPORT"
   ]
  },
  {
   "cell_type": "code",
   "execution_count": 10,
   "metadata": {},
   "outputs": [],
   "source": [
    "import pandas as pd\n",
    "import os\n",
    "import matplotlib.pyplot as plt"
   ]
  },
  {
   "cell_type": "markdown",
   "metadata": {},
   "source": [
    "### READ DATA"
   ]
  },
  {
   "cell_type": "code",
   "execution_count": 11,
   "metadata": {},
   "outputs": [],
   "source": [
    "file_path = \"Steam_2024_bestRevenue_1500.csv\"\n",
    "def read_data(file_path):\n",
    "    data = pd.read_csv(file_path, encoding='utf-8-sig')\n",
    "    return data\n",
    "data = read_data(file_path)"
   ]
  },
  {
   "cell_type": "markdown",
   "metadata": {},
   "source": [
    "### HOW MANY ROWS AND HOW MANY COLUMNS?"
   ]
  },
  {
   "cell_type": "code",
   "execution_count": 12,
   "metadata": {},
   "outputs": [
    {
     "name": "stdout",
     "output_type": "stream",
     "text": [
      "Number of rows: 1500\n",
      "Number of columns: 11\n"
     ]
    }
   ],
   "source": [
    "rows, columns = data.shape\n",
    "print(f\"Number of rows: {rows}\")\n",
    "print(f\"Number of columns: {columns}\")"
   ]
  },
  {
   "cell_type": "markdown",
   "metadata": {},
   "source": [
    "### THE MEANING OF EACH ROW"
   ]
  },
  {
   "cell_type": "markdown",
   "metadata": {},
   "source": [
    "- Each row represents an individual game, and the columns provide details about the game's release, sales, price, revenue, average playtime, and ratings, along with information about the publisher and developer, steamID."
   ]
  },
  {
   "cell_type": "markdown",
   "metadata": {},
   "source": [
    "### DUPLICATED ROWS"
   ]
  },
  {
   "cell_type": "code",
   "execution_count": 13,
   "metadata": {},
   "outputs": [
    {
     "name": "stdout",
     "output_type": "stream",
     "text": [
      "No duplicated data found.\n"
     ]
    }
   ],
   "source": [
    "def normalize_data(row):\n",
    "    return row.apply(\n",
    "        lambda x: str(sorted([str(v).strip().lower() for v in x])) if isinstance(x, list) \n",
    "        else str(x).strip().lower()\n",
    "    )\n",
    "\n",
    "normalized_df = data.apply(normalize_data, axis=1)\n",
    "\n",
    "num_duplicated_rows = normalized_df.duplicated().sum()\n",
    "\n",
    "if num_duplicated_rows > 0:\n",
    "    duplicates = data_df[normalized_df.duplicated(keep=False)]\n",
    "    print(f\"The raw data has {num_duplicated_rows} duplicated rows.\")\n",
    "    print(\"Duplicated rows:\")\n",
    "    print(duplicates)\n",
    "else:\n",
    "    print(\"No duplicated data found.\")"
   ]
  },
  {
   "cell_type": "markdown",
   "metadata": {},
   "source": [
    "### THE MEANING OF EACH COLUMNS"
   ]
  },
  {
   "cell_type": "markdown",
   "metadata": {},
   "source": [
    "- `name`: This column contains the name or title of the game.\n",
    "- `releaseDate`: This column records the release date of the game. It is the date the game was officially made available to the public.\n",
    "- `copiesSold`: This column represents the total number of copies of the game sold. This could refer to physical or digital copies.\n",
    "- `price`: The price of the game when it was released.\n",
    "- `revenue`: The total revenue generated from the sales of the game.\n",
    "- `avgPlaytime`: This represents the average playtime of the game, often measured in hours.\n",
    "- `reviewScore`: This column contains the average review score for the game.\n",
    "- `publisherClass`: This indicates the classification of the publisher. It can be a general categorization such as \"Indie,\" \"AAA,\" or other types of publishers based on size, resources, and market reach.\n",
    "- `publishers`: This column lists the name of the publisher of the game. Publishers are companies that manage the distribution and marketing of the game.\n",
    "- `developers`: This column lists the names of the developers who created and worked on the game. \n",
    "- `steamId`: The unique identifier (ID) associated with the game on the Steam platform. "
   ]
  },
  {
   "cell_type": "markdown",
   "metadata": {},
   "source": [
    "### DATA TYPE OF EACH COLUMN"
   ]
  },
  {
   "cell_type": "code",
   "execution_count": 1,
   "metadata": {},
   "outputs": [
    {
     "ename": "NameError",
     "evalue": "name 'data' is not defined",
     "output_type": "error",
     "traceback": [
      "\u001b[1;31m---------------------------------------------------------------------------\u001b[0m",
      "\u001b[1;31mNameError\u001b[0m                                 Traceback (most recent call last)",
      "Cell \u001b[1;32mIn[1], line 1\u001b[0m\n\u001b[1;32m----> 1\u001b[0m \u001b[43mdata\u001b[49m\u001b[38;5;241m.\u001b[39mdtypes\n",
      "\u001b[1;31mNameError\u001b[0m: name 'data' is not defined"
     ]
    }
   ],
   "source": [
    "data.dtypes"
   ]
  },
  {
   "cell_type": "markdown",
   "metadata": {},
   "source": [
    "### ARE THESE COLUMNS HAVING INAPPROPRIATE DATA TYPES?"
   ]
  },
  {
   "cell_type": "markdown",
   "metadata": {},
   "source": [
    "- Since all the columns's datatypes are `object`, we need to change into the appropriate datatypes: \n",
    "- `releaseDate`: This column should be `datetime`.\n",
    "- `copiesSold`: This column should represent numeric data (`int` or `float`).\n",
    "- `price`: This column should represent numeric data (`float`).\n",
    "- `revenue`: This column should represent numeric data (`float`).\n",
    "- `avgPlaytime`: This column should represent numeric data (`float`).\n",
    "- `reviewScore`: This column should represent numeric data (`int` or `float`). "
   ]
  },
  {
   "cell_type": "code",
   "execution_count": 15,
   "metadata": {},
   "outputs": [
    {
     "name": "stderr",
     "output_type": "stream",
     "text": [
      "C:\\Users\\ADMIN\\AppData\\Local\\Temp\\ipykernel_4212\\1376345834.py:1: UserWarning: Parsing dates in DD/MM/YYYY format when dayfirst=False (the default) was specified. This may lead to inconsistently parsed dates! Specify a format to ensure consistent parsing.\n",
      "  data['releaseDate'] = pd.to_datetime(data['releaseDate'], errors='coerce')\n"
     ]
    }
   ],
   "source": [
    "data['releaseDate'] = pd.to_datetime(data['releaseDate'], errors='coerce')  \n",
    "data['copiesSold'] = pd.to_numeric(data['copiesSold'], errors='coerce')\n",
    "data['price'] = pd.to_numeric(data['price'], errors='coerce')\n",
    "data['revenue'] = pd.to_numeric(data['revenue'], errors='coerce')\n",
    "data['avgPlaytime'] = pd.to_numeric(data['avgPlaytime'], errors='coerce')\n",
    "data['reviewScore'] = pd.to_numeric(data['reviewScore'], errors='coerce')\n",
    "data['steamId'] = data['steamId'].astype('object')"
   ]
  },
  {
   "cell_type": "markdown",
   "metadata": {},
   "source": [
    "### NEW DATATYPES OF EACH COLUMNS"
   ]
  },
  {
   "cell_type": "code",
   "execution_count": 16,
   "metadata": {},
   "outputs": [
    {
     "data": {
      "text/plain": [
       "name                      object\n",
       "releaseDate       datetime64[ns]\n",
       "copiesSold                 int64\n",
       "price                    float64\n",
       "revenue                  float64\n",
       "avgPlaytime              float64\n",
       "reviewScore                int64\n",
       "publisherClass            object\n",
       "publishers                object\n",
       "developers                object\n",
       "steamId                   object\n",
       "dtype: object"
      ]
     },
     "execution_count": 16,
     "metadata": {},
     "output_type": "execute_result"
    }
   ],
   "source": [
    "data.dtypes"
   ]
  },
  {
   "cell_type": "markdown",
   "metadata": {},
   "source": [
    "## What percentage of the total revenue is generated by the top 5 publishers, and how does this reflect market concentration?"
   ]
  },
  {
   "cell_type": "markdown",
   "metadata": {},
   "source": [
    "**Before answering this question, let's see what's the insights**\n",
    "- Answer this question can understand the revenue concentration provides insights into industry dynamics and the competitiveness of smaller players."
   ]
  },
  {
   "cell_type": "markdown",
   "metadata": {},
   "source": [
    "**How to answer?**\n",
    "- First, calculate the total revenue by summing up all the values in the `revenue` column. \n",
    "- Then, group the data by publisher and calculate the total revenue for each publisher, sorting them in descending order. \n",
    "- The top 5 publishers are selected, and their combined revenue is computed. \n",
    "- Finally, the percentage of the total revenue generated by these top 5 publishers is calculated and displayed, providing insights into how much of the total revenue comes from the leading publishers."
   ]
  },
  {
   "cell_type": "code",
   "execution_count": 17,
   "metadata": {},
   "outputs": [
    {
     "name": "stdout",
     "output_type": "stream",
     "text": [
      "Top 5 Publishers by Revenue:\n",
      "publishers\n",
      "Game Science                  837793356.0\n",
      "PlayStation Publishing LLC    508885199.0\n",
      "Pocketpair                    392328553.0\n",
      "Newnight                      217017892.0\n",
      "CAPCOM Co., Ltd.              117881025.0\n",
      "Name: revenue, dtype: float64\n",
      "\n",
      "Percentage of total revenue generated by the top 5 publishers: 52.52%\n"
     ]
    }
   ],
   "source": [
    "# Calculate the total revenue\n",
    "total_revenue = data['revenue'].sum()\n",
    "revenue_by_publisher = data.groupby('publishers')['revenue'].sum().sort_values(ascending=False)\n",
    "top_5_revenue = revenue_by_publisher.head(5)\n",
    "\n",
    "# Calculate the percentage of total revenue generated by the top 5 publishers\n",
    "top_5_total_revenue = top_5_revenue.sum()\n",
    "percentage_revenue_top_5 = (top_5_total_revenue / total_revenue) * 100\n",
    "print(\"Top 5 Publishers by Revenue:\")\n",
    "print(top_5_revenue)\n",
    "print(f\"\\nPercentage of total revenue generated by the top 5 publishers: {percentage_revenue_top_5:.2f}%\")"
   ]
  },
  {
   "cell_type": "code",
   "execution_count": 18,
   "metadata": {},
   "outputs": [
    {
     "data": {
      "image/png": "[encoded data removed]",
      "text/plain": [
       "<Figure size 1000x600 with 1 Axes>"
      ]
     },
     "metadata": {},
     "output_type": "display_data"
    }
   ],
   "source": [
    "plt.figure(figsize=(10, 6))\n",
    "top_5_revenue.plot(kind='bar', color='skyblue')\n",
    "plt.title('Top 5 Publishers by Total Revenue')\n",
    "plt.xlabel('Publisher')\n",
    "plt.ylabel('Total Revenue ($)')\n",
    "plt.xticks(rotation=45, ha='right')\n",
    "plt.tight_layout()\n",
    "plt.show()"
   ]
  },
  {
   "cell_type": "markdown",
   "metadata": {},
   "source": [
    "#### Conclusion\n",
    "- **Game Science** stands out as the clear leader in total revenue, surpassing 800 million dollars. This significant gap suggests strong market performance, possibly due to successful game titles, strategic marketing, or expansion into global markets.\n",
    "- **PlayStation Publishing LLC** and **Pocketpair** still maintain competitive positions with revenues of around 500 million and 400 million dollars, respectively. These publishers appear to be solid players, showing potential for future growth or maintaining steady market presence.\n",
    "- **Newnight** and **CAPCOM Co., Ltd.** exhibit notably lower revenue figures compared to the top three publishers. This could indicate that they have smaller market shares or are still in the process of expanding their reach or diversifying their game portfolios.\n",
    "- This bar chart highlights a clear hierarchy among the top five publishers, with Game Science leading by a substantial margin. While **PlayStation Publishing LLC** and **Pocketpair** are strong competitors, **Newnight** and **CAPCOM Co., Ltd.** lag behind significantly. The revenue distribution indicates a highly competitive market where the top publishers have a commanding presence. \n",
    "- This chart may serve as a snapshot of the industry's current state, showcasing both the success of leading companies and the challenges faced by others in maintaining or increasing their market share. "
   ]
  },
  {
   "cell_type": "markdown",
   "metadata": {},
   "source": [
    "Difficulties:\n",
    "- Struggling to comprehend the content of dataset, have trouble finding meaningful questions, determining datatypes of collumns.\n",
    "- Uncertainty about the legality of using the dataset\n",
    "\n",
    "Learned:\n",
    "- Always verify the dataset's licensing and permissions, and be aware of relevant data protection laws before using it"
   ]
  },
  {
   "cell_type": "markdown",
   "metadata": {},
   "source": []
  }
 ],
 "metadata": {
  "kernelspec": {
   "display_name": "min_ds-env",
   "language": "python",
   "name": "python3"
  },
  "language_info": {
   "codemirror_mode": {
    "name": "ipython",
    "version": 3
   },
   "file_extension": ".py",
   "mimetype": "text/x-python",
   "name": "python",
   "nbconvert_exporter": "python",
   "pygments_lexer": "ipython3",
   "version": "3.10.8"
  }
 },
 "nbformat": 4,
 "nbformat_minor": 2
}
