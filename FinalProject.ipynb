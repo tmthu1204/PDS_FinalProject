{
 "cells": [
  {
   "cell_type": "markdown",
   "metadata": {},
   "source": [
    "# `FINAL PROJECT`"
   ]
  },
  {
   "cell_type": "markdown",
   "metadata": {},
   "source": [
    "## **GAME ANALYSIS**"
   ]
  },
  {
   "cell_type": "markdown",
   "metadata": {},
   "source": [
    "`Group ID`: 16\n",
    "\n",
    "`Group Member`: \n",
    "- 22127404_Tạ Minh Thư\n",
    "- 22127359_Chu Thúy Quỳnh\n",
    "- 22127302_Nguyễn Đăng Nhân"
   ]
  },
  {
   "cell_type": "markdown",
   "metadata": {},
   "source": [
    "## IMPORT"
   ]
  },
  {
   "cell_type": "code",
   "execution_count": 19,
   "metadata": {},
   "outputs": [],
   "source": [
    "import pandas as pd\n",
    "import os"
   ]
  },
  {
   "cell_type": "markdown",
   "metadata": {},
   "source": [
    "### READ DATA"
   ]
  },
  {
   "cell_type": "code",
   "execution_count": 20,
   "metadata": {},
   "outputs": [],
   "source": [
    "file_path = \"Steam_2024_bestRevenue_1500.csv\"\n",
    "def read_data(file_path):\n",
    "    data = pd.read_csv(file_path, encoding='utf-8-sig')\n",
    "    return data\n",
    "data = read_data(file_path)"
   ]
  },
  {
   "cell_type": "markdown",
   "metadata": {},
   "source": [
    "### HOW MANY ROWS AND HOW MANY COLUMNS?"
   ]
  },
  {
   "cell_type": "code",
   "execution_count": 21,
   "metadata": {},
   "outputs": [
    {
     "name": "stdout",
     "output_type": "stream",
     "text": [
      "Number of rows: 1500\n",
      "Number of columns: 11\n"
     ]
    }
   ],
   "source": [
    "rows, columns = data.shape\n",
    "print(f\"Number of rows: {rows}\")\n",
    "print(f\"Number of columns: {columns}\")"
   ]
  },
  {
   "cell_type": "markdown",
   "metadata": {},
   "source": [
    "### THE MEANING OF EACH ROW"
   ]
  },
  {
   "cell_type": "markdown",
   "metadata": {},
   "source": [
    "- Each row represents an individual game, and the columns provide details about the game's release, sales, price, revenue, average playtime, and ratings, along with information about the publisher and developer, steamID."
   ]
  },
  {
   "cell_type": "markdown",
   "metadata": {},
   "source": [
    "### DUPLICATED ROWS"
   ]
  },
  {
   "cell_type": "code",
   "execution_count": 22,
   "metadata": {},
   "outputs": [
    {
     "name": "stdout",
     "output_type": "stream",
     "text": [
      "No duplicated data found.\n"
     ]
    }
   ],
   "source": [
    "def normalize_data(row):\n",
    "    return row.apply(\n",
    "        lambda x: str(sorted([str(v).strip().lower() for v in x])) if isinstance(x, list) \n",
    "        else str(x).strip().lower()\n",
    "    )\n",
    "\n",
    "normalized_df = data.apply(normalize_data, axis=1)\n",
    "\n",
    "num_duplicated_rows = normalized_df.duplicated().sum()\n",
    "\n",
    "if num_duplicated_rows > 0:\n",
    "    duplicates = data_df[normalized_df.duplicated(keep=False)]\n",
    "    print(f\"The raw data has {num_duplicated_rows} duplicated rows.\")\n",
    "    print(\"Duplicated rows:\")\n",
    "    print(duplicates)\n",
    "else:\n",
    "    print(\"No duplicated data found.\")"
   ]
  },
  {
   "cell_type": "markdown",
   "metadata": {},
   "source": [
    "### THE MEANING OF EACH COLUMNS"
   ]
  },
  {
   "cell_type": "markdown",
   "metadata": {},
   "source": [
    "- `name`: This column contains the name or title of the game.\n",
    "- `releaseDate`: This column records the release date of the game. It is the date the game was officially made available to the public.\n",
    "- `copiesSold`: This column represents the total number of copies of the game sold. This could refer to physical or digital copies.\n",
    "- `price`: The price of the game when it was released.\n",
    "- `revenue`: The total revenue generated from the sales of the game.\n",
    "- `avgPlaytime`: This represents the average playtime of the game, often measured in hours.\n",
    "- `reviewScore`: This column contains the average review score for the game.\n",
    "- `publisherClass`: This indicates the classification of the publisher. It can be a general categorization such as \"Indie,\" \"AAA,\" or other types of publishers based on size, resources, and market reach.\n",
    "- `publishers`: This column lists the name of the publisher of the game. Publishers are companies that manage the distribution and marketing of the game.\n",
    "- `developers`: This column lists the names of the developers who created and worked on the game. \n",
    "- `steamId`: The unique identifier (ID) associated with the game on the Steam platform. "
   ]
  },
  {
   "cell_type": "markdown",
   "metadata": {},
   "source": [
    "### DATA TYPE OF EACH COLUMN"
   ]
  },
  {
   "cell_type": "code",
   "execution_count": 23,
   "metadata": {},
   "outputs": [
    {
     "name": "stdout",
     "output_type": "stream",
     "text": [
      "name | Data Type: object\n",
      "releaseDate | Data Type: object\n",
      "copiesSold | Data Type: int64\n",
      "price | Data Type: float64\n",
      "revenue | Data Type: float64\n",
      "avgPlaytime | Data Type: float64\n",
      "reviewScore | Data Type: int64\n",
      "publisherClass | Data Type: object\n",
      "publishers | Data Type: object\n",
      "developers | Data Type: object\n",
      "steamId | Data Type: int64\n"
     ]
    }
   ],
   "source": [
    "for column in data.columns:\n",
    "    print(f\"{column} | Data Type: {data[column].dtype}\")"
   ]
  },
  {
   "cell_type": "markdown",
   "metadata": {},
   "source": [
    "### ARE THESE COLUMNS HAVING INAPPROPRIATE DATA TYPES?"
   ]
  },
  {
   "cell_type": "markdown",
   "metadata": {},
   "source": [
    "- Since all the columns's datatypes are `object`, we need to change into the appropriate datatypes: \n",
    "- `releaseDate`: This column should be `datetime`.\n",
    "- `copiesSold`: This column should represent numeric data (`int` or `float`).\n",
    "- `price`: This column should represent numeric data (`float`).\n",
    "- `revenue`: This column should represent numeric data (`float`).\n",
    "- `avgPlaytime`: This column should represent numeric data (`float`).\n",
    "- `reviewScore`: This column should represent numeric data (`int` or `float`). \n",
    "- `steamId`: This column should represent numeric data (`int`)."
   ]
  },
  {
   "cell_type": "code",
   "execution_count": 24,
   "metadata": {},
   "outputs": [
    {
     "name": "stderr",
     "output_type": "stream",
     "text": [
      "C:\\Users\\ADMIN\\AppData\\Local\\Temp\\ipykernel_3536\\3682626606.py:1: UserWarning: Parsing dates in DD/MM/YYYY format when dayfirst=False (the default) was specified. This may lead to inconsistently parsed dates! Specify a format to ensure consistent parsing.\n",
      "  data['releaseDate'] = pd.to_datetime(data['releaseDate'], errors='coerce')\n"
     ]
    }
   ],
   "source": [
    "data['releaseDate'] = pd.to_datetime(data['releaseDate'], errors='coerce')  \n",
    "data['copiesSold'] = pd.to_numeric(data['copiesSold'], errors='coerce')\n",
    "data['price'] = pd.to_numeric(data['price'], errors='coerce')\n",
    "data['revenue'] = pd.to_numeric(data['revenue'], errors='coerce')\n",
    "data['avgPlaytime'] = pd.to_numeric(data['avgPlaytime'], errors='coerce')\n",
    "data['reviewScore'] = pd.to_numeric(data['reviewScore'], errors='coerce')\n",
    "data['steamId'] = pd.to_numeric(data['steamId'], errors='coerce')"
   ]
  },
  {
   "cell_type": "markdown",
   "metadata": {},
   "source": [
    "### NEW DATATYPES OF EACH COLUMNS"
   ]
  },
  {
   "cell_type": "code",
   "execution_count": 25,
   "metadata": {},
   "outputs": [
    {
     "data": {
      "text/plain": [
       "name                      object\n",
       "releaseDate       datetime64[ns]\n",
       "copiesSold                 int64\n",
       "price                    float64\n",
       "revenue                  float64\n",
       "avgPlaytime              float64\n",
       "reviewScore                int64\n",
       "publisherClass            object\n",
       "publishers                object\n",
       "developers                object\n",
       "steamId                    int64\n",
       "dtype: object"
      ]
     },
     "execution_count": 25,
     "metadata": {},
     "output_type": "execute_result"
    }
   ],
   "source": [
    "data.dtypes"
   ]
  },
  {
   "cell_type": "code",
   "execution_count": null,
   "metadata": {},
   "outputs": [],
   "source": []
  }
 ],
 "metadata": {
  "kernelspec": {
   "display_name": "min_ds-env",
   "language": "python",
   "name": "python3"
  },
  "language_info": {
   "codemirror_mode": {
    "name": "ipython",
    "version": 3
   },
   "file_extension": ".py",
   "mimetype": "text/x-python",
   "name": "python",
   "nbconvert_exporter": "python",
   "pygments_lexer": "ipython3",
   "version": "3.10.8"
  }
 },
 "nbformat": 4,
 "nbformat_minor": 2
}
